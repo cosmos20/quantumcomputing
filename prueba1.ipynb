{
 "cells": [
  {
   "cell_type": "code",
   "execution_count": 1,
   "id": "e6be9621-7e32-4a5c-8afd-b8638b661653",
   "metadata": {},
   "outputs": [
    {
     "name": "stderr",
     "output_type": "stream",
     "text": [
      "Matplotlib is building the font cache; this may take a moment.\n"
     ]
    }
   ],
   "source": [
    "import numpy as np\n",
    "\n",
    "# Importing standard Qiskit libraries\n",
    "from qiskit import QuantumCircuit, transpile, Aer, IBMQ\n",
    "from qiskit.tools.jupyter import *\n",
    "from qiskit.visualization import *\n",
    "from ibm_quantum_widgets import *\n",
    "from qiskit.providers.aer import QasmSimulator\n",
    "\n",
    "# Loading your IBM Quantum account(s)\n",
    "provider = IBMQ.load_account()"
   ]
  },
  {
   "cell_type": "code",
   "execution_count": 2,
   "id": "be658c79-ba2f-423c-9af7-3322108aec27",
   "metadata": {},
   "outputs": [],
   "source": [
    "from qiskit import QuantumCircuit, Aer,execute\n",
    "from qiskit.visualization import plot_histogram\n"
   ]
  },
  {
   "cell_type": "code",
   "execution_count": 3,
   "id": "09954d6a-8909-4c2f-b34c-c42d66a90c90",
   "metadata": {},
   "outputs": [
    {
     "data": {
      "image/png": "[encoded data removed]",
      "text/plain": [
       "<Figure size 327.252x204.68 with 1 Axes>"
      ]
     },
     "execution_count": 3,
     "metadata": {},
     "output_type": "execute_result"
    }
   ],
   "source": [
    "circ = QuantumCircuit(2,2)\n",
    "circ.h(0)\n",
    "circ.x(1)\n",
    "circ.z(1)\n",
    "circ.measure((0,1),(0,1))\n",
    "circ.draw()"
   ]
  },
  {
   "cell_type": "code",
   "execution_count": 5,
   "id": "6155558a-96d4-4a27-971a-f72cacc9b115",
   "metadata": {},
   "outputs": [
    {
     "data": {
      "image/png": "[encoded data removed]",
      "text/plain": [
       "<Figure size 504x360 with 1 Axes>"
      ]
     },
     "execution_count": 5,
     "metadata": {},
     "output_type": "execute_result"
    }
   ],
   "source": [
    "backend = Aer.get_backend(\"qasm_simulator\")\n",
    "job=execute(circ,backend,shots=1024)\n",
    "result=job.result()\n",
    "count=result.get_counts(circ)\n",
    "count\n",
    "plot_histogram(count)"
   ]
  },
  {
   "cell_type": "code",
   "execution_count": null,
   "id": "1f5889e0-63b4-4dab-8d22-79dd6d05c0b8",
   "metadata": {},
   "outputs": [],
   "source": []
  }
 ],
 "metadata": {
  "kernelspec": {
   "display_name": "Qiskit v0.30.1 (ipykernel)",
   "language": "python",
   "name": "python3"
  },
  "language_info": {
   "codemirror_mode": {
    "name": "ipython",
    "version": 3
   },
   "file_extension": ".py",
   "mimetype": "text/x-python",
   "name": "python",
   "nbconvert_exporter": "python",
   "pygments_lexer": "ipython3",
   "version": "3.8.10"
  },
  "widgets": {
   "application/vnd.jupyter.widget-state+json": {
    "state": {
     "0089d63a8ee340f3a95692ed67bd6b18": {
      "model_module": "@jupyter-widgets/controls",
      "model_module_version": "1.5.0",
      "model_name": "GridBoxModel",
      "state": {
       "children": [
        "IPY_MODEL_2492472389a0413292ab2b74e980eb38"
       ],
       "layout": "IPY_MODEL_a63c780c230d4a039110cae562c4f6c4"
      }
     },
     "1658ff52c2934316b7a91e34e8ec1fef": {
      "model_module": "@jupyter-widgets/controls",
      "model_module_version": "1.5.0",
      "model_name": "HTMLModel",
      "state": {
       "layout": "IPY_MODEL_32b8086aaa7346bdbb50b9810d655f82",
       "style": "IPY_MODEL_9fd122cc30de4409b9e001f38d9d6b78",
       "value": "<h5>Message</h5>"
      }
     },
     "2492472389a0413292ab2b74e980eb38": {
      "model_module": "@jupyter-widgets/controls",
      "model_module_version": "1.5.0",
      "model_name": "ButtonModel",
      "state": {
       "button_style": "primary",
       "description": "Clear",
       "layout": "IPY_MODEL_5613a9b04bac4dbcbdd764c1c38e6e86",
       "style": "IPY_MODEL_812cd946ca3a4b7d91c0ce21ca8a2b60"
      }
     },
     "2b66f8cc15b44fea84cd17090de8022d": {
      "model_module": "@jupyter-widgets/controls",
      "model_module_version": "1.5.0",
      "model_name": "HTMLModel",
      "state": {
       "layout": "IPY_MODEL_fd9f21c5324d47cc93893775c414dff4",
       "style": "IPY_MODEL_bf100f1ce28948148dd1f4f7b478c90e",
       "value": "<p style='font-family: IBM Plex Sans, Arial, Helvetica, sans-serif; font-size: 20px; font-weight: medium;'>Circuit Properties</p>"
      }
     },
     "32b8086aaa7346bdbb50b9810d655f82": {
      "model_module": "@jupyter-widgets/base",
      "model_module_version": "1.2.0",
      "model_name": "LayoutModel",
      "state": {}
     },
     "414cbaae95a74fbdb5e573a73f07b250": {
      "model_module": "@jupyter-widgets/controls",
      "model_module_version": "1.5.0",
      "model_name": "HTMLModel",
      "state": {
       "layout": "IPY_MODEL_b4b6b79801284375b2520a7d62ce04c4",
       "style": "IPY_MODEL_85b8b513046c4d6194b1fac83589c862",
       "value": "<h5>Queue</h5>"
      }
     },
     "559e4a95ea2b45afab653940c8d1c6b2": {
      "model_module": "@jupyter-widgets/controls",
      "model_module_version": "1.5.0",
      "model_name": "HBoxModel",
      "state": {
       "children": [
        "IPY_MODEL_d328efc03cdd486a9c4a90e6a84c8556",
        "IPY_MODEL_cea964a8a6d449f2afdfc0c9de8ad86e",
        "IPY_MODEL_fcd099aa1e31443f8cd97ac73487c01b",
        "IPY_MODEL_414cbaae95a74fbdb5e573a73f07b250",
        "IPY_MODEL_1658ff52c2934316b7a91e34e8ec1fef"
       ],
       "layout": "IPY_MODEL_75ef589b3dc54a05af712698eab5f26c"
      }
     },
     "5613a9b04bac4dbcbdd764c1c38e6e86": {
      "model_module": "@jupyter-widgets/base",
      "model_module_version": "1.2.0",
      "model_name": "LayoutModel",
      "state": {
       "grid_area": "right",
       "padding": "0px 0px 0px 0px",
       "width": "70px"
      }
     },
     "698957d51a954990aa983ba8ec028bc9": {
      "model_module": "@jupyter-widgets/controls",
      "model_module_version": "1.5.0",
      "model_name": "DescriptionStyleModel",
      "state": {
       "description_width": ""
      }
     },
     "72d7acc19bcf4feb8195fca629d9a124": {
      "model_module": "@jupyter-widgets/base",
      "model_module_version": "1.2.0",
      "model_name": "LayoutModel",
      "state": {
       "width": "190px"
      }
     },
     "75ef589b3dc54a05af712698eab5f26c": {
      "model_module": "@jupyter-widgets/base",
      "model_module_version": "1.2.0",
      "model_name": "LayoutModel",
      "state": {
       "margin": "0px 0px 0px 37px",
       "width": "600px"
      }
     },
     "812cd946ca3a4b7d91c0ce21ca8a2b60": {
      "model_module": "@jupyter-widgets/controls",
      "model_module_version": "1.5.0",
      "model_name": "ButtonStyleModel",
      "state": {}
     },
     "85b8b513046c4d6194b1fac83589c862": {
      "model_module": "@jupyter-widgets/controls",
      "model_module_version": "1.5.0",
      "model_name": "DescriptionStyleModel",
      "state": {
       "description_width": ""
      }
     },
     "9fd122cc30de4409b9e001f38d9d6b78": {
      "model_module": "@jupyter-widgets/controls",
      "model_module_version": "1.5.0",
      "model_name": "DescriptionStyleModel",
      "state": {
       "description_width": ""
      }
     },
     "a63c780c230d4a039110cae562c4f6c4": {
      "model_module": "@jupyter-widgets/base",
      "model_module_version": "1.2.0",
      "model_name": "LayoutModel",
      "state": {
       "grid_template_areas": "\n                                       \". . . . right \"\n                                        ",
       "grid_template_columns": "20% 20% 20% 20% 20%",
       "width": "100%"
      }
     },
     "ab02c9668ccb47da85fecc0f974c20fd": {
      "model_module": "@jupyter-widgets/controls",
      "model_module_version": "1.5.0",
      "model_name": "DescriptionStyleModel",
      "state": {
       "description_width": ""
      }
     },
     "b4b6b79801284375b2520a7d62ce04c4": {
      "model_module": "@jupyter-widgets/base",
      "model_module_version": "1.2.0",
      "model_name": "LayoutModel",
      "state": {
       "width": "70px"
      }
     },
     "bb59a47899774716970fb708b421823c": {
      "model_module": "@jupyter-widgets/controls",
      "model_module_version": "1.5.0",
      "model_name": "DescriptionStyleModel",
      "state": {
       "description_width": ""
      }
     },
     "bf100f1ce28948148dd1f4f7b478c90e": {
      "model_module": "@jupyter-widgets/controls",
      "model_module_version": "1.5.0",
      "model_name": "DescriptionStyleModel",
      "state": {
       "description_width": ""
      }
     },
     "c794ccdd2b8a4beeb86de411ac370037": {
      "model_module": "@jupyter-widgets/base",
      "model_module_version": "1.2.0",
      "model_name": "LayoutModel",
      "state": {
       "width": "95px"
      }
     },
     "cea964a8a6d449f2afdfc0c9de8ad86e": {
      "model_module": "@jupyter-widgets/controls",
      "model_module_version": "1.5.0",
      "model_name": "HTMLModel",
      "state": {
       "layout": "IPY_MODEL_da6323965745471aaad0e755142f9ab1",
       "style": "IPY_MODEL_bb59a47899774716970fb708b421823c",
       "value": "<h5>Backend</h5>"
      }
     },
     "d328efc03cdd486a9c4a90e6a84c8556": {
      "model_module": "@jupyter-widgets/controls",
      "model_module_version": "1.5.0",
      "model_name": "HTMLModel",
      "state": {
       "layout": "IPY_MODEL_72d7acc19bcf4feb8195fca629d9a124",
       "style": "IPY_MODEL_ab02c9668ccb47da85fecc0f974c20fd",
       "value": "<h5>Job ID</h5>"
      }
     },
     "da6323965745471aaad0e755142f9ab1": {
      "model_module": "@jupyter-widgets/base",
      "model_module_version": "1.2.0",
      "model_name": "LayoutModel",
      "state": {
       "width": "145px"
      }
     },
     "fcd099aa1e31443f8cd97ac73487c01b": {
      "model_module": "@jupyter-widgets/controls",
      "model_module_version": "1.5.0",
      "model_name": "HTMLModel",
      "state": {
       "layout": "IPY_MODEL_c794ccdd2b8a4beeb86de411ac370037",
       "style": "IPY_MODEL_698957d51a954990aa983ba8ec028bc9",
       "value": "<h5>Status</h5>"
      }
     },
     "fd9f21c5324d47cc93893775c414dff4": {
      "model_module": "@jupyter-widgets/base",
      "model_module_version": "1.2.0",
      "model_name": "LayoutModel",
      "state": {
       "margin": "0px 0px 10px 0px"
      }
     }
    },
    "version_major": 2,
    "version_minor": 0
   }
  }
 },
 "nbformat": 4,
 "nbformat_minor": 5
}
